{
 "cells": [
  {
   "cell_type": "markdown",
   "id": "e9a604ab-ef19-4c3d-bb71-4657dc9621db",
   "metadata": {},
   "source": [
    "## How to Make Your Color Palette with Matplotlib in Python"
   ]
  },
  {
   "cell_type": "code",
   "execution_count": 3,
   "id": "fa7dcd2f-7b26-4648-98a1-224e6083da40",
   "metadata": {},
   "outputs": [
    {
     "name": "stdout",
     "output_type": "stream",
     "text": [
      "Collecting colormap\n",
      "  Downloading colormap-1.0.4.tar.gz (17 kB)\n",
      "Building wheels for collected packages: colormap\n",
      "  Building wheel for colormap (setup.py) ... \u001b[?25ldone\n",
      "\u001b[?25h  Created wheel for colormap: filename=colormap-1.0.4-py3-none-any.whl size=15637 sha256=b52e0d49e240a74b6f0deda5424a4021a4fe4af74a50da5c97ff40b4350d65cd\n",
      "  Stored in directory: /Users/Lara/Library/Caches/pip/wheels/85/d0/c0/3ac513b77d6a3d9fdc8e5252f1a5abbcfd8f33a4f6dd8d5de4\n",
      "Successfully built colormap\n",
      "Installing collected packages: colormap\n",
      "Successfully installed colormap-1.0.4\n"
     ]
    }
   ],
   "source": [
    "# First make sure you have colormap installed\n",
    "!pip install colormap"
   ]
  },
  {
   "cell_type": "markdown",
   "id": "08922ea7-b1e7-4724-a846-704631d216a3",
   "metadata": {},
   "source": [
    "#### Imports:"
   ]
  },
  {
   "cell_type": "code",
   "execution_count": 13,
   "id": "2c91b592-359c-404c-9a20-6aa0c5d2f952",
   "metadata": {},
   "outputs": [],
   "source": [
    "from matplotlib.colors import ListedColormap\n",
    "import pandas as pd\n",
    "import seaborn as sns\n",
    "import matplotlib.pyplot as plt\n",
    "\n",
    "%matplotlib inline"
   ]
  },
  {
   "cell_type": "markdown",
   "id": "ec472a47-d80e-40b3-b6b0-0ac7b85d4cf3",
   "metadata": {},
   "source": [
    "In case you're wondering, '%matplotlib inline' is part of the \"magic commands\" for Jupyter lab - With this backend, the output of plotting commands is displayed inline within frontends like the Jupyter notebook, directly below the code cell that produced it. The resulting plots will then also be stored in the notebook document. [This](https://stackoverflow.com/questions/43027980/purpose-of-matplotlib-inline) is a good stack overflow article on it."
   ]
  },
  {
   "cell_type": "markdown",
   "id": "c5bf35a2-101a-49e0-8548-e9f440ec0ac3",
   "metadata": {},
   "source": [
    "#### 2. View the default Color Palette"
   ]
  },
  {
   "cell_type": "code",
   "execution_count": 12,
   "id": "024cd35e-9a92-4cef-866e-594971065165",
   "metadata": {},
   "outputs": [
    {
     "data": {
      "text/html": [
       "<svg  width=\"550\" height=\"55\"><rect x=\"0\" y=\"0\" width=\"55\" height=\"55\" style=\"fill:#1f77b4;stroke-width:2;stroke:rgb(255,255,255)\"/><rect x=\"55\" y=\"0\" width=\"55\" height=\"55\" style=\"fill:#ff7f0e;stroke-width:2;stroke:rgb(255,255,255)\"/><rect x=\"110\" y=\"0\" width=\"55\" height=\"55\" style=\"fill:#2ca02c;stroke-width:2;stroke:rgb(255,255,255)\"/><rect x=\"165\" y=\"0\" width=\"55\" height=\"55\" style=\"fill:#d62728;stroke-width:2;stroke:rgb(255,255,255)\"/><rect x=\"220\" y=\"0\" width=\"55\" height=\"55\" style=\"fill:#9467bd;stroke-width:2;stroke:rgb(255,255,255)\"/><rect x=\"275\" y=\"0\" width=\"55\" height=\"55\" style=\"fill:#8c564b;stroke-width:2;stroke:rgb(255,255,255)\"/><rect x=\"330\" y=\"0\" width=\"55\" height=\"55\" style=\"fill:#e377c2;stroke-width:2;stroke:rgb(255,255,255)\"/><rect x=\"385\" y=\"0\" width=\"55\" height=\"55\" style=\"fill:#7f7f7f;stroke-width:2;stroke:rgb(255,255,255)\"/><rect x=\"440\" y=\"0\" width=\"55\" height=\"55\" style=\"fill:#bcbd22;stroke-width:2;stroke:rgb(255,255,255)\"/><rect x=\"495\" y=\"0\" width=\"55\" height=\"55\" style=\"fill:#17becf;stroke-width:2;stroke:rgb(255,255,255)\"/></svg>"
      ],
      "text/plain": [
       "[(0.12156862745098039, 0.4666666666666667, 0.7058823529411765),\n",
       " (1.0, 0.4980392156862745, 0.054901960784313725),\n",
       " (0.17254901960784313, 0.6274509803921569, 0.17254901960784313),\n",
       " (0.8392156862745098, 0.15294117647058825, 0.1568627450980392),\n",
       " (0.5803921568627451, 0.403921568627451, 0.7411764705882353),\n",
       " (0.5490196078431373, 0.33725490196078434, 0.29411764705882354),\n",
       " (0.8901960784313725, 0.4666666666666667, 0.7607843137254902),\n",
       " (0.4980392156862745, 0.4980392156862745, 0.4980392156862745),\n",
       " (0.7372549019607844, 0.7411764705882353, 0.13333333333333333),\n",
       " (0.09019607843137255, 0.7450980392156863, 0.8117647058823529)]"
      ]
     },
     "execution_count": 12,
     "metadata": {},
     "output_type": "execute_result"
    }
   ],
   "source": [
    "# check out the documentation within sns.color_palette() if you're interested! \n",
    "sns.color_palette()"
   ]
  },
  {
   "cell_type": "markdown",
   "id": "1c8b1130-8b64-4820-8089-70f040a829e5",
   "metadata": {},
   "source": [
    "#### 3. Use HTML Color Codes to Create Your Palette\n",
    "Link to a great site for finding specific [HTML color codes](https://htmlcolorcodes.com) and creating different a variety of different palettes."
   ]
  },
  {
   "cell_type": "code",
   "execution_count": 8,
   "id": "4ed0ea7b-117c-4d28-862f-da84408070cc",
   "metadata": {},
   "outputs": [
    {
     "data": {
      "image/png": "[encoded data removed]",
      "text/plain": [
       "<Figure size 216x72 with 1 Axes>"
      ]
     },
     "metadata": {
      "needs_background": "light"
     },
     "output_type": "display_data"
    }
   ],
   "source": [
    "#use html color codes\n",
    "greens = ['#33FF4A','#59BF65', '#768F79']\n",
    "sns.palplot(sns.color_palette(greens))"
   ]
  },
  {
   "cell_type": "code",
   "execution_count": 15,
   "id": "242cee18-17db-48c1-af7f-7c93165fb76d",
   "metadata": {},
   "outputs": [],
   "source": [
    "# create colormap to refer to later\n",
    "my_colors = ListedColormap(sns.color_palette(greens))"
   ]
  },
  {
   "cell_type": "code",
   "execution_count": 16,
   "id": "38e5e843-a442-4c53-9c30-46f516cfb4af",
   "metadata": {},
   "outputs": [],
   "source": [
    "# create fake data to visualize - how much produce does each person have?\n",
    "limes = [5, 7, 8, 12, 4, 6, 2]\n",
    "avocados = [7, 6, 3, 1, 11, 9, 12]\n",
    "spinach = [7, 6, 3, 1, 11, 9, 12]\n",
    "\n",
    "index = ['Jack', 'Jill', 'James',\n",
    "         'Juliet', 'Jim', 'Jackie', 'Joe']"
   ]
  },
  {
   "cell_type": "code",
   "execution_count": 18,
   "id": "a6c441de-18d5-4239-b89a-3df7a6fc50b2",
   "metadata": {},
   "outputs": [
    {
     "data": {
      "image/png": "[encoded data removed]",
      "text/plain": [
       "<Figure size 432x288 with 1 Axes>"
      ]
     },
     "metadata": {
      "needs_background": "light"
     },
     "output_type": "display_data"
    }
   ],
   "source": [
    "# create dataframe and plot:\n",
    "df = pd.DataFrame({'limes': limes,\n",
    "                   'avocados': avocados,\n",
    "                   'spinach': spinach}, index=index)\n",
    "\n",
    "ax = df.plot.bar(rot=0, colormap=my_colors)"
   ]
  },
  {
   "cell_type": "markdown",
   "id": "ed97f897-daaf-4c22-9083-7fe3d17be135",
   "metadata": {},
   "source": [
    "**Interpretation**: Juliet LOVES limes, Jack and Jill have pretty similar grocery habits, and Jim and Joe are probably big fans of salad"
   ]
  }
 ],
 "metadata": {
  "kernelspec": {
   "display_name": "Python 3 (ipykernel)",
   "language": "python",
   "name": "python3"
  },
  "language_info": {
   "codemirror_mode": {
    "name": "ipython",
    "version": 3
   },
   "file_extension": ".py",
   "mimetype": "text/x-python",
   "name": "python",
   "nbconvert_exporter": "python",
   "pygments_lexer": "ipython3",
   "version": "3.9.12"
  }
 },
 "nbformat": 4,
 "nbformat_minor": 5
}
